{
 "metadata": {
  "orig_nbformat": 4,
  "kernelspec": {
   "name": "python3",
   "display_name": "Python 3",
   "language": "python"
  }
 },
 "nbformat": 4,
 "nbformat_minor": 2,
 "cells": [
  {
   "cell_type": "code",
   "execution_count": 2,
   "metadata": {},
   "outputs": [],
   "source": [
    "import pandas as pd\n",
    "import numpy as np\n",
    "import re\n",
    "import matplotlib.pyplot as plt\n",
    "import seaborn as sns"
   ]
  },
  {
   "cell_type": "code",
   "execution_count": 3,
   "metadata": {},
   "outputs": [],
   "source": [
    "df = pd.read_csv(\"/opt/ml/web_serving/problem_dataset/서울시 우리말문제 정보.csv\")"
   ]
  },
  {
   "cell_type": "code",
   "execution_count": 5,
   "metadata": {},
   "outputs": [
    {
     "output_type": "execute_result",
     "data": {
      "text/plain": [
       "   문제키값                    문제      오픈일자  보기순번  \\\n",
       "0   825  다음 중 ( )속의 말이 틀린 것은?  20151231  4621   \n",
       "1   825  다음 중 ( )속의 말이 틀린 것은?  20151231  4622   \n",
       "2   825  다음 중 ( )속의 말이 틀린 것은?  20151231  4623   \n",
       "3   825  다음 중 ( )속의 말이 틀린 것은?  20151231  4624   \n",
       "4   824  다음 중 ( )속의 말이 틀린 것은?  20151230  4617   \n",
       "\n",
       "                                       보기정보 정답여부  \n",
       "0                          그것은 나만의 (넋두리)였다.  NaN  \n",
       "1  나는 그를 별로 좋아하지 않는다. (더욱이) 그도 나를 좋아하지 않는다.  NaN  \n",
       "2                 어제는 부장님 아기의 (돌)잔치에 다녀왔어요.  NaN  \n",
       "3              무능한 선배의 (뒤치다거리)하는 신세라니 한심하다.   정답  \n",
       "4                     (고깔) 모자를 쓴 아이들이 지나간다.  NaN  "
      ],
      "text/html": "<div>\n<style scoped>\n    .dataframe tbody tr th:only-of-type {\n        vertical-align: middle;\n    }\n\n    .dataframe tbody tr th {\n        vertical-align: top;\n    }\n\n    .dataframe thead th {\n        text-align: right;\n    }\n</style>\n<table border=\"1\" class=\"dataframe\">\n  <thead>\n    <tr style=\"text-align: right;\">\n      <th></th>\n      <th>문제키값</th>\n      <th>문제</th>\n      <th>오픈일자</th>\n      <th>보기순번</th>\n      <th>보기정보</th>\n      <th>정답여부</th>\n    </tr>\n  </thead>\n  <tbody>\n    <tr>\n      <th>0</th>\n      <td>825</td>\n      <td>다음 중 ( )속의 말이 틀린 것은?</td>\n      <td>20151231</td>\n      <td>4621</td>\n      <td>그것은 나만의 (넋두리)였다.</td>\n      <td>NaN</td>\n    </tr>\n    <tr>\n      <th>1</th>\n      <td>825</td>\n      <td>다음 중 ( )속의 말이 틀린 것은?</td>\n      <td>20151231</td>\n      <td>4622</td>\n      <td>나는 그를 별로 좋아하지 않는다. (더욱이) 그도 나를 좋아하지 않는다.</td>\n      <td>NaN</td>\n    </tr>\n    <tr>\n      <th>2</th>\n      <td>825</td>\n      <td>다음 중 ( )속의 말이 틀린 것은?</td>\n      <td>20151231</td>\n      <td>4623</td>\n      <td>어제는 부장님 아기의 (돌)잔치에 다녀왔어요.</td>\n      <td>NaN</td>\n    </tr>\n    <tr>\n      <th>3</th>\n      <td>825</td>\n      <td>다음 중 ( )속의 말이 틀린 것은?</td>\n      <td>20151231</td>\n      <td>4624</td>\n      <td>무능한 선배의 (뒤치다거리)하는 신세라니 한심하다.</td>\n      <td>정답</td>\n    </tr>\n    <tr>\n      <th>4</th>\n      <td>824</td>\n      <td>다음 중 ( )속의 말이 틀린 것은?</td>\n      <td>20151230</td>\n      <td>4617</td>\n      <td>(고깔) 모자를 쓴 아이들이 지나간다.</td>\n      <td>NaN</td>\n    </tr>\n  </tbody>\n</table>\n</div>"
     },
     "metadata": {},
     "execution_count": 5
    }
   ],
   "source": [
    "df.head()"
   ]
  },
  {
   "cell_type": "code",
   "execution_count": 6,
   "metadata": {},
   "outputs": [
    {
     "output_type": "execute_result",
     "data": {
      "text/plain": [
       "824"
      ]
     },
     "metadata": {},
     "execution_count": 6
    }
   ],
   "source": [
    "df['문제키값'].nunique()"
   ]
  },
  {
   "cell_type": "code",
   "execution_count": 10,
   "metadata": {},
   "outputs": [
    {
     "output_type": "execute_result",
     "data": {
      "text/plain": [
       "array([nan, '정답'], dtype=object)"
      ]
     },
     "metadata": {},
     "execution_count": 10
    }
   ],
   "source": [
    "df[\"정답여부\"].unique()"
   ]
  },
  {
   "cell_type": "code",
   "execution_count": 11,
   "metadata": {},
   "outputs": [],
   "source": [
    "df['정답여부'] = df['정답여부'].transform(lambda x: 1 if x == \"정답\" else 0)"
   ]
  },
  {
   "cell_type": "code",
   "execution_count": 8,
   "metadata": {},
   "outputs": [
    {
     "output_type": "execute_result",
     "data": {
      "text/plain": [
       "   문제키값                    문제      오픈일자  보기순번  \\\n",
       "0   825  다음 중 ( )속의 말이 틀린 것은?  20151231  4621   \n",
       "1   825  다음 중 ( )속의 말이 틀린 것은?  20151231  4622   \n",
       "2   825  다음 중 ( )속의 말이 틀린 것은?  20151231  4623   \n",
       "3   825  다음 중 ( )속의 말이 틀린 것은?  20151231  4624   \n",
       "4   824  다음 중 ( )속의 말이 틀린 것은?  20151230  4617   \n",
       "\n",
       "                                       보기정보  정답여부  \n",
       "0                          그것은 나만의 (넋두리)였다.     0  \n",
       "1  나는 그를 별로 좋아하지 않는다. (더욱이) 그도 나를 좋아하지 않는다.     0  \n",
       "2                 어제는 부장님 아기의 (돌)잔치에 다녀왔어요.     0  \n",
       "3              무능한 선배의 (뒤치다거리)하는 신세라니 한심하다.     1  \n",
       "4                     (고깔) 모자를 쓴 아이들이 지나간다.     0  "
      ],
      "text/html": "<div>\n<style scoped>\n    .dataframe tbody tr th:only-of-type {\n        vertical-align: middle;\n    }\n\n    .dataframe tbody tr th {\n        vertical-align: top;\n    }\n\n    .dataframe thead th {\n        text-align: right;\n    }\n</style>\n<table border=\"1\" class=\"dataframe\">\n  <thead>\n    <tr style=\"text-align: right;\">\n      <th></th>\n      <th>문제키값</th>\n      <th>문제</th>\n      <th>오픈일자</th>\n      <th>보기순번</th>\n      <th>보기정보</th>\n      <th>정답여부</th>\n    </tr>\n  </thead>\n  <tbody>\n    <tr>\n      <th>0</th>\n      <td>825</td>\n      <td>다음 중 ( )속의 말이 틀린 것은?</td>\n      <td>20151231</td>\n      <td>4621</td>\n      <td>그것은 나만의 (넋두리)였다.</td>\n      <td>0</td>\n    </tr>\n    <tr>\n      <th>1</th>\n      <td>825</td>\n      <td>다음 중 ( )속의 말이 틀린 것은?</td>\n      <td>20151231</td>\n      <td>4622</td>\n      <td>나는 그를 별로 좋아하지 않는다. (더욱이) 그도 나를 좋아하지 않는다.</td>\n      <td>0</td>\n    </tr>\n    <tr>\n      <th>2</th>\n      <td>825</td>\n      <td>다음 중 ( )속의 말이 틀린 것은?</td>\n      <td>20151231</td>\n      <td>4623</td>\n      <td>어제는 부장님 아기의 (돌)잔치에 다녀왔어요.</td>\n      <td>0</td>\n    </tr>\n    <tr>\n      <th>3</th>\n      <td>825</td>\n      <td>다음 중 ( )속의 말이 틀린 것은?</td>\n      <td>20151231</td>\n      <td>4624</td>\n      <td>무능한 선배의 (뒤치다거리)하는 신세라니 한심하다.</td>\n      <td>1</td>\n    </tr>\n    <tr>\n      <th>4</th>\n      <td>824</td>\n      <td>다음 중 ( )속의 말이 틀린 것은?</td>\n      <td>20151230</td>\n      <td>4617</td>\n      <td>(고깔) 모자를 쓴 아이들이 지나간다.</td>\n      <td>0</td>\n    </tr>\n  </tbody>\n</table>\n</div>"
     },
     "metadata": {},
     "execution_count": 8
    }
   ],
   "source": [
    "df.head()"
   ]
  },
  {
   "cell_type": "code",
   "execution_count": 14,
   "metadata": {},
   "outputs": [
    {
     "output_type": "execute_result",
     "data": {
      "text/plain": [
       "count    824.000000\n",
       "mean       3.992718\n",
       "std        0.098323\n",
       "min        2.000000\n",
       "25%        4.000000\n",
       "50%        4.000000\n",
       "75%        4.000000\n",
       "max        4.000000\n",
       "Name: 문제키값, dtype: float64"
      ]
     },
     "metadata": {},
     "execution_count": 14
    }
   ],
   "source": [
    "df['문제키값'].value_counts().describe()"
   ]
  },
  {
   "cell_type": "code",
   "execution_count": null,
   "metadata": {},
   "outputs": [],
   "source": [
    "# 선택형 문제, 2개 또는 4 개의 문항이 있음"
   ]
  },
  {
   "cell_type": "code",
   "execution_count": 16,
   "metadata": {},
   "outputs": [
    {
     "output_type": "execute_result",
     "data": {
      "text/plain": [
       "1"
      ]
     },
     "metadata": {},
     "execution_count": 16
    }
   ],
   "source": [
    "(df['문제키값'].value_counts() == 2).sum()"
   ]
  },
  {
   "cell_type": "code",
   "execution_count": 17,
   "metadata": {},
   "outputs": [
    {
     "output_type": "execute_result",
     "data": {
      "text/plain": [
       "4"
      ]
     },
     "metadata": {},
     "execution_count": 17
    }
   ],
   "source": [
    "(df['문제키값'].value_counts() == 3).sum()"
   ]
  },
  {
   "cell_type": "code",
   "execution_count": 18,
   "metadata": {},
   "outputs": [
    {
     "output_type": "execute_result",
     "data": {
      "text/plain": [
       "819"
      ]
     },
     "metadata": {},
     "execution_count": 18
    }
   ],
   "source": [
    "(df['문제키값'].value_counts() == 4).sum()"
   ]
  },
  {
   "cell_type": "code",
   "execution_count": 1,
   "metadata": {},
   "outputs": [
    {
     "output_type": "error",
     "ename": "NameError",
     "evalue": "name 'df' is not defined",
     "traceback": [
      "\u001b[0;31m---------------------------------------------------------------------------\u001b[0m",
      "\u001b[0;31mNameError\u001b[0m                                 Traceback (most recent call last)",
      "\u001b[0;32m<ipython-input-1-f412d7f9325e>\u001b[0m in \u001b[0;36m<module>\u001b[0;34m\u001b[0m\n\u001b[0;32m----> 1\u001b[0;31m \u001b[0mdf\u001b[0m\u001b[0;34m[\u001b[0m\u001b[0;34m\"문제\"\u001b[0m\u001b[0;34m]\u001b[0m\u001b[0;34m.\u001b[0m\u001b[0mnunique\u001b[0m\u001b[0;34m(\u001b[0m\u001b[0;34m)\u001b[0m\u001b[0;34m\u001b[0m\u001b[0;34m\u001b[0m\u001b[0m\n\u001b[0m",
      "\u001b[0;31mNameError\u001b[0m: name 'df' is not defined"
     ]
    }
   ],
   "source": [
    "df[\"문제\"].nunique()"
   ]
  },
  {
   "cell_type": "code",
   "execution_count": 22,
   "metadata": {},
   "outputs": [],
   "source": [
    "# 총 824개의 문제가 있고, 고유한 문제는 695가지가 있음"
   ]
  },
  {
   "cell_type": "code",
   "execution_count": 21,
   "metadata": {},
   "outputs": [
    {
     "output_type": "execute_result",
     "data": {
      "text/plain": [
       "3290"
      ]
     },
     "metadata": {},
     "execution_count": 21
    }
   ],
   "source": [
    "len(df)"
   ]
  },
  {
   "cell_type": "code",
   "execution_count": null,
   "metadata": {},
   "outputs": [],
   "source": [
    "# 824개 -> 82개의 시험지로 나누어\n",
    "# 10개의 문항이 있는 것이 80개, 12개의 문항이 있는 시험지가 2개로 하면 될 듯"
   ]
  },
  {
   "cell_type": "code",
   "execution_count": 187,
   "metadata": {},
   "outputs": [],
   "source": [
    "problem_ids = df[\"문제키값\"].unique()"
   ]
  },
  {
   "cell_type": "code",
   "execution_count": 189,
   "metadata": {},
   "outputs": [
    {
     "output_type": "execute_result",
     "data": {
      "text/plain": [
       "824"
      ]
     },
     "metadata": {},
     "execution_count": 189
    }
   ],
   "source": [
    "len(set(problem_ids))"
   ]
  },
  {
   "cell_type": "code",
   "execution_count": 21,
   "metadata": {},
   "outputs": [],
   "source": [
    "dkt_train_test_df = pd.read_csv(\"/opt/ml/input/data/train_dataset/test_data.csv\")"
   ]
  },
  {
   "cell_type": "code",
   "execution_count": 26,
   "metadata": {},
   "outputs": [],
   "source": [
    "# 기본적인 사용자 acc는 "
   ]
  },
  {
   "cell_type": "code",
   "execution_count": 22,
   "metadata": {},
   "outputs": [],
   "source": [
    "prob_per_teset = dkt_train_test_df[['testId', 'assessmentItemID']].groupby(['testId']).nunique()['assessmentItemID'].to_dict()"
   ]
  },
  {
   "cell_type": "code",
   "execution_count": 125,
   "metadata": {},
   "outputs": [],
   "source": [
    "selectible_tids = [t for t,v in prob_per_teset.items() if v == 8]"
   ]
  },
  {
   "cell_type": "code",
   "execution_count": 126,
   "metadata": {},
   "outputs": [
    {
     "output_type": "execute_result",
     "data": {
      "text/plain": [
       "218"
      ]
     },
     "metadata": {},
     "execution_count": 126
    }
   ],
   "source": [
    "len(selectible_tids)"
   ]
  },
  {
   "cell_type": "code",
   "execution_count": 128,
   "metadata": {},
   "outputs": [],
   "source": [
    "selectible_tids = np.array(selectible_tids)"
   ]
  },
  {
   "cell_type": "code",
   "execution_count": 129,
   "metadata": {},
   "outputs": [],
   "source": [
    "tid_choice = np.random.choice(range(len(selectible_tids)), (103, ), replace=False)\n",
    "choosed_test_ids = selectible_tids[tid_choice]"
   ]
  },
  {
   "cell_type": "code",
   "execution_count": 159,
   "metadata": {},
   "outputs": [
    {
     "output_type": "execute_result",
     "data": {
      "text/plain": [
       "103"
      ]
     },
     "metadata": {},
     "execution_count": 159
    }
   ],
   "source": [
    "len(set(choosed_test_ids))"
   ]
  },
  {
   "cell_type": "code",
   "execution_count": 64,
   "metadata": {},
   "outputs": [],
   "source": [
    "from collections import Counter\n",
    "num_counter = Counter(prob_per_teset.values())"
   ]
  },
  {
   "cell_type": "code",
   "execution_count": 160,
   "metadata": {},
   "outputs": [
    {
     "output_type": "execute_result",
     "data": {
      "text/plain": [
       "Counter({5: 605,\n",
       "         4: 63,\n",
       "         8: 218,\n",
       "         6: 295,\n",
       "         3: 7,\n",
       "         7: 270,\n",
       "         2: 1,\n",
       "         10: 8,\n",
       "         11: 3,\n",
       "         9: 56,\n",
       "         13: 1,\n",
       "         12: 10})"
      ]
     },
     "metadata": {},
     "execution_count": 160
    }
   ],
   "source": [
    "num_counter"
   ]
  },
  {
   "cell_type": "code",
   "execution_count": 68,
   "metadata": {},
   "outputs": [],
   "source": [
    "# 8 문제 짜리를 103개 시험지 만들어야 할 듯..."
   ]
  },
  {
   "cell_type": "code",
   "execution_count": 197,
   "metadata": {},
   "outputs": [
    {
     "output_type": "stream",
     "name": "stdout",
     "text": [
      "824\n"
     ]
    }
   ],
   "source": [
    "np.random.shuffle(problem_ids)\n",
    "print(len(set(problem_ids)))\n",
    "problem_sets = []\n",
    "for i in range(103):\n",
    "    problem_sets.append(problem_ids[8*i:8*i+8])"
   ]
  },
  {
   "cell_type": "code",
   "execution_count": 163,
   "metadata": {},
   "outputs": [
    {
     "output_type": "execute_result",
     "data": {
      "text/plain": [
       "824"
      ]
     },
     "metadata": {},
     "execution_count": 163
    }
   ],
   "source": [
    "len(set(problem_ids))"
   ]
  },
  {
   "cell_type": "code",
   "execution_count": 198,
   "metadata": {},
   "outputs": [],
   "source": [
    "tid_problems = {}\n",
    "for tid, problem_set in zip(choosed_test_ids, problem_sets):\n",
    "    tid_problems[tid] = problem_set"
   ]
  },
  {
   "cell_type": "code",
   "execution_count": 199,
   "metadata": {},
   "outputs": [
    {
     "output_type": "execute_result",
     "data": {
      "text/plain": [
       "103"
      ]
     },
     "metadata": {},
     "execution_count": 199
    }
   ],
   "source": [
    "len(tid_problems)"
   ]
  },
  {
   "cell_type": "code",
   "execution_count": 204,
   "metadata": {},
   "outputs": [],
   "source": [
    "kor_prob_to_dkt_id = {}\n",
    "kor_prob_to_dkt_tid = {}\n",
    "\n",
    "x = 0\n",
    "for tid, pset in tid_problems.items():\n",
    "    prob_tid = tid[:3] + tid[-4:]\n",
    "\n",
    "    kor_prob_list.extend(pset)\n",
    "    for i, kor_prob in enumerate(pset):\n",
    "        kor_prob_set.add(kor_prob)\n",
    "        kor_prob_to_dkt_tid[kor_prob] = tid\n",
    "        pid = prob_tid + str(i+1).zfill(3)\n",
    "        kor_prob_to_dkt_id[kor_prob] = pid"
   ]
  },
  {
   "cell_type": "code",
   "execution_count": 207,
   "metadata": {},
   "outputs": [],
   "source": [
    "dkt_pids = dkt_train_test_df[\"assessmentItemID\"].unique()"
   ]
  },
  {
   "cell_type": "code",
   "execution_count": 208,
   "metadata": {},
   "outputs": [],
   "source": [
    "wrong_pid = [p for p in pids if p not in dkt_pids]"
   ]
  },
  {
   "cell_type": "code",
   "execution_count": 209,
   "metadata": {},
   "outputs": [
    {
     "output_type": "stream",
     "name": "stdout",
     "text": [
      "[]\n"
     ]
    }
   ],
   "source": [
    "print(wrong_pid)"
   ]
  },
  {
   "cell_type": "code",
   "execution_count": 121,
   "metadata": {},
   "outputs": [
    {
     "output_type": "execute_result",
     "data": {
      "text/plain": [
       "824"
      ]
     },
     "metadata": {},
     "execution_count": 121
    }
   ],
   "source": [
    "len(pids)"
   ]
  },
  {
   "cell_type": "code",
   "execution_count": 142,
   "metadata": {},
   "outputs": [
    {
     "output_type": "execute_result",
     "data": {
      "text/plain": [
       "   문제키값                    문제      오픈일자  보기순번  \\\n",
       "0   825  다음 중 ( )속의 말이 틀린 것은?  20151231  4621   \n",
       "1   825  다음 중 ( )속의 말이 틀린 것은?  20151231  4622   \n",
       "2   825  다음 중 ( )속의 말이 틀린 것은?  20151231  4623   \n",
       "3   825  다음 중 ( )속의 말이 틀린 것은?  20151231  4624   \n",
       "4   824  다음 중 ( )속의 말이 틀린 것은?  20151230  4617   \n",
       "\n",
       "                                       보기정보  정답여부  \n",
       "0                          그것은 나만의 (넋두리)였다.     0  \n",
       "1  나는 그를 별로 좋아하지 않는다. (더욱이) 그도 나를 좋아하지 않는다.     0  \n",
       "2                 어제는 부장님 아기의 (돌)잔치에 다녀왔어요.     0  \n",
       "3              무능한 선배의 (뒤치다거리)하는 신세라니 한심하다.     1  \n",
       "4                     (고깔) 모자를 쓴 아이들이 지나간다.     0  "
      ],
      "text/html": "<div>\n<style scoped>\n    .dataframe tbody tr th:only-of-type {\n        vertical-align: middle;\n    }\n\n    .dataframe tbody tr th {\n        vertical-align: top;\n    }\n\n    .dataframe thead th {\n        text-align: right;\n    }\n</style>\n<table border=\"1\" class=\"dataframe\">\n  <thead>\n    <tr style=\"text-align: right;\">\n      <th></th>\n      <th>문제키값</th>\n      <th>문제</th>\n      <th>오픈일자</th>\n      <th>보기순번</th>\n      <th>보기정보</th>\n      <th>정답여부</th>\n    </tr>\n  </thead>\n  <tbody>\n    <tr>\n      <th>0</th>\n      <td>825</td>\n      <td>다음 중 ( )속의 말이 틀린 것은?</td>\n      <td>20151231</td>\n      <td>4621</td>\n      <td>그것은 나만의 (넋두리)였다.</td>\n      <td>0</td>\n    </tr>\n    <tr>\n      <th>1</th>\n      <td>825</td>\n      <td>다음 중 ( )속의 말이 틀린 것은?</td>\n      <td>20151231</td>\n      <td>4622</td>\n      <td>나는 그를 별로 좋아하지 않는다. (더욱이) 그도 나를 좋아하지 않는다.</td>\n      <td>0</td>\n    </tr>\n    <tr>\n      <th>2</th>\n      <td>825</td>\n      <td>다음 중 ( )속의 말이 틀린 것은?</td>\n      <td>20151231</td>\n      <td>4623</td>\n      <td>어제는 부장님 아기의 (돌)잔치에 다녀왔어요.</td>\n      <td>0</td>\n    </tr>\n    <tr>\n      <th>3</th>\n      <td>825</td>\n      <td>다음 중 ( )속의 말이 틀린 것은?</td>\n      <td>20151231</td>\n      <td>4624</td>\n      <td>무능한 선배의 (뒤치다거리)하는 신세라니 한심하다.</td>\n      <td>1</td>\n    </tr>\n    <tr>\n      <th>4</th>\n      <td>824</td>\n      <td>다음 중 ( )속의 말이 틀린 것은?</td>\n      <td>20151230</td>\n      <td>4617</td>\n      <td>(고깔) 모자를 쓴 아이들이 지나간다.</td>\n      <td>0</td>\n    </tr>\n  </tbody>\n</table>\n</div>"
     },
     "metadata": {},
     "execution_count": 142
    }
   ],
   "source": []
  },
  {
   "cell_type": "code",
   "execution_count": 212,
   "metadata": {},
   "outputs": [],
   "source": [
    "df['dkt_tid'] = df['문제키값'].transform(lambda x: kor_prob_to_dkt_tid[x])"
   ]
  },
  {
   "cell_type": "code",
   "execution_count": 213,
   "metadata": {},
   "outputs": [],
   "source": [
    "df['dkt_pid'] = df['문제키값'].transform(lambda x: kor_prob_to_dkt_id[x])"
   ]
  },
  {
   "cell_type": "code",
   "execution_count": 214,
   "metadata": {},
   "outputs": [
    {
     "output_type": "execute_result",
     "data": {
      "text/plain": [
       "   문제키값                    문제      오픈일자  보기순번  \\\n",
       "0   825  다음 중 ( )속의 말이 틀린 것은?  20151231  4621   \n",
       "1   825  다음 중 ( )속의 말이 틀린 것은?  20151231  4622   \n",
       "2   825  다음 중 ( )속의 말이 틀린 것은?  20151231  4623   \n",
       "3   825  다음 중 ( )속의 말이 틀린 것은?  20151231  4624   \n",
       "4   824  다음 중 ( )속의 말이 틀린 것은?  20151230  4617   \n",
       "\n",
       "                                       보기정보  정답여부     dkt_tid     dkt_pid  \n",
       "0                          그것은 나만의 (넋두리)였다.     0  A080000066  A080066001  \n",
       "1  나는 그를 별로 좋아하지 않는다. (더욱이) 그도 나를 좋아하지 않는다.     0  A080000066  A080066001  \n",
       "2                 어제는 부장님 아기의 (돌)잔치에 다녀왔어요.     0  A080000066  A080066001  \n",
       "3              무능한 선배의 (뒤치다거리)하는 신세라니 한심하다.     1  A080000066  A080066001  \n",
       "4                     (고깔) 모자를 쓴 아이들이 지나간다.     0  A080000097  A080097007  "
      ],
      "text/html": "<div>\n<style scoped>\n    .dataframe tbody tr th:only-of-type {\n        vertical-align: middle;\n    }\n\n    .dataframe tbody tr th {\n        vertical-align: top;\n    }\n\n    .dataframe thead th {\n        text-align: right;\n    }\n</style>\n<table border=\"1\" class=\"dataframe\">\n  <thead>\n    <tr style=\"text-align: right;\">\n      <th></th>\n      <th>문제키값</th>\n      <th>문제</th>\n      <th>오픈일자</th>\n      <th>보기순번</th>\n      <th>보기정보</th>\n      <th>정답여부</th>\n      <th>dkt_tid</th>\n      <th>dkt_pid</th>\n    </tr>\n  </thead>\n  <tbody>\n    <tr>\n      <th>0</th>\n      <td>825</td>\n      <td>다음 중 ( )속의 말이 틀린 것은?</td>\n      <td>20151231</td>\n      <td>4621</td>\n      <td>그것은 나만의 (넋두리)였다.</td>\n      <td>0</td>\n      <td>A080000066</td>\n      <td>A080066001</td>\n    </tr>\n    <tr>\n      <th>1</th>\n      <td>825</td>\n      <td>다음 중 ( )속의 말이 틀린 것은?</td>\n      <td>20151231</td>\n      <td>4622</td>\n      <td>나는 그를 별로 좋아하지 않는다. (더욱이) 그도 나를 좋아하지 않는다.</td>\n      <td>0</td>\n      <td>A080000066</td>\n      <td>A080066001</td>\n    </tr>\n    <tr>\n      <th>2</th>\n      <td>825</td>\n      <td>다음 중 ( )속의 말이 틀린 것은?</td>\n      <td>20151231</td>\n      <td>4623</td>\n      <td>어제는 부장님 아기의 (돌)잔치에 다녀왔어요.</td>\n      <td>0</td>\n      <td>A080000066</td>\n      <td>A080066001</td>\n    </tr>\n    <tr>\n      <th>3</th>\n      <td>825</td>\n      <td>다음 중 ( )속의 말이 틀린 것은?</td>\n      <td>20151231</td>\n      <td>4624</td>\n      <td>무능한 선배의 (뒤치다거리)하는 신세라니 한심하다.</td>\n      <td>1</td>\n      <td>A080000066</td>\n      <td>A080066001</td>\n    </tr>\n    <tr>\n      <th>4</th>\n      <td>824</td>\n      <td>다음 중 ( )속의 말이 틀린 것은?</td>\n      <td>20151230</td>\n      <td>4617</td>\n      <td>(고깔) 모자를 쓴 아이들이 지나간다.</td>\n      <td>0</td>\n      <td>A080000097</td>\n      <td>A080097007</td>\n    </tr>\n  </tbody>\n</table>\n</div>"
     },
     "metadata": {},
     "execution_count": 214
    }
   ],
   "source": [
    "df.head()"
   ]
  },
  {
   "cell_type": "code",
   "execution_count": 217,
   "metadata": {},
   "outputs": [],
   "source": [
    "import json"
   ]
  },
  {
   "cell_type": "code",
   "execution_count": 299,
   "metadata": {},
   "outputs": [],
   "source": [
    "final_dict = {}"
   ]
  },
  {
   "cell_type": "code",
   "execution_count": 300,
   "metadata": {},
   "outputs": [],
   "source": [
    "for p in problem_ids:\n",
    "    rows = df[df[\"문제키값\"] == p].reset_index()\n",
    "    prob_text = rows.iloc[0][\"문제\"]\n",
    "    dkt_tid = rows.iloc[0][\"dkt_tid\"]\n",
    "    dkt_pid = rows.iloc[0][\"dkt_pid\"]\n",
    "\n",
    "    # print(p)\n",
    "    # print(list(rows[\"정답여부\"]).index(1))\n",
    "\n",
    "    final_dict[str(p)] = {\n",
    "        \"문제 번호\": str(p),\n",
    "        \"문제\": prob_text,\n",
    "        \"시험지 id\": dkt_tid,\n",
    "        \"문제 id\": dkt_pid,\n",
    "        \"문제 id\": dkt_pid,\n",
    "        \"답안\": list(rows[\"보기정보\"].values),\n",
    "        # \"정답\": rows[rows[\"정답여부\"] == 1].index.astype(int)\n",
    "        \"정답\": list(rows[\"정답여부\"]).index(1)\n",
    "    }\n",
    "    # break"
   ]
  },
  {
   "cell_type": "code",
   "execution_count": 288,
   "metadata": {},
   "outputs": [],
   "source": [
    "df.drop(df[df[\"문제키값\"] == 761].index, inplace=True)"
   ]
  },
  {
   "cell_type": "code",
   "execution_count": 293,
   "metadata": {},
   "outputs": [],
   "source": [
    "problem_ids = problem_ids[problem_ids != 761]"
   ]
  },
  {
   "cell_type": "code",
   "execution_count": 295,
   "metadata": {},
   "outputs": [
    {
     "output_type": "execute_result",
     "data": {
      "text/plain": [
       "823"
      ]
     },
     "metadata": {},
     "execution_count": 295
    }
   ],
   "source": [
    "len(problem_ids)"
   ]
  },
  {
   "cell_type": "code",
   "execution_count": 301,
   "metadata": {},
   "outputs": [],
   "source": [
    "with open(\"/opt/ml/web_serving/problem_dataset/fake_korean_problem_set.json\", \"w\", encoding=\"UTF-8-sig\") as f:\n",
    "    f.write(json.dumps(final_dict, ensure_ascii=False))"
   ]
  },
  {
   "cell_type": "code",
   "execution_count": 4,
   "metadata": {},
   "outputs": [],
   "source": [
    "import json"
   ]
  },
  {
   "cell_type": "code",
   "execution_count": 8,
   "metadata": {},
   "outputs": [
    {
     "output_type": "error",
     "ename": "AttributeError",
     "evalue": "'str' object has no attribute 'decode'",
     "traceback": [
      "\u001b[0;31m---------------------------------------------------------------------------\u001b[0m",
      "\u001b[0;31mAttributeError\u001b[0m                            Traceback (most recent call last)",
      "\u001b[0;32m<ipython-input-8-da84fa5f4662>\u001b[0m in \u001b[0;36m<module>\u001b[0;34m\u001b[0m\n\u001b[0;32m----> 1\u001b[0;31m \u001b[0mprob_dict\u001b[0m \u001b[0;34m=\u001b[0m \u001b[0mjson\u001b[0m\u001b[0;34m.\u001b[0m\u001b[0mloads\u001b[0m\u001b[0;34m(\u001b[0m\u001b[0mopen\u001b[0m\u001b[0;34m(\u001b[0m\u001b[0;34m\"/opt/ml/web_serving/problem_dataset/fake_korean_problem_set.json\"\u001b[0m\u001b[0;34m)\u001b[0m\u001b[0;34m.\u001b[0m\u001b[0mread\u001b[0m\u001b[0;34m(\u001b[0m\u001b[0;34m)\u001b[0m\u001b[0;34m.\u001b[0m\u001b[0mdecode\u001b[0m\u001b[0;34m(\u001b[0m\u001b[0;34m\"utf-8-sig\"\u001b[0m\u001b[0;34m)\u001b[0m\u001b[0;34m)\u001b[0m\u001b[0;34m\u001b[0m\u001b[0;34m\u001b[0m\u001b[0m\n\u001b[0m",
      "\u001b[0;31mAttributeError\u001b[0m: 'str' object has no attribute 'decode'"
     ]
    }
   ],
   "source": [
    "prob_dict = json.loads(open(\"/opt/ml/web_serving/problem_dataset/fake_korean_problem_set.json\").read().decode(\"utf-8-sig\"))"
   ]
  },
  {
   "cell_type": "code",
   "execution_count": 9,
   "metadata": {
    "tags": []
   },
   "outputs": [],
   "source": [
    "with open(\"/opt/ml/web_serving/problem_dataset/fake_korean_problem_set.json\", encoding=\"utf-8-sig\") as f:\n",
    "    data = json.load(f)"
   ]
  },
  {
   "cell_type": "code",
   "execution_count": 14,
   "metadata": {},
   "outputs": [
    {
     "output_type": "stream",
     "name": "stdout",
     "text": [
      "823\n823\n"
     ]
    }
   ],
   "source": [
    "print(len(data))\n",
    "print(len(data.keys()))"
   ]
  },
  {
   "cell_type": "code",
   "execution_count": 18,
   "metadata": {
    "tags": []
   },
   "outputs": [
    {
     "output_type": "stream",
     "name": "stdout",
     "text": [
      "dict_keys(['문제 번호', '문제', '시험지 id', '문제 id', '답안', '정답'])\n"
     ]
    }
   ],
   "source": [
    "for p, v in data.items():\n",
    "    print(v.keys())\n",
    "    v['문제 id']\n",
    "    break"
   ]
  },
  {
   "cell_type": "code",
   "execution_count": 25,
   "metadata": {},
   "outputs": [
    {
     "output_type": "stream",
     "name": "stdout",
     "text": [
      "26\n"
     ]
    }
   ],
   "source": [
    "print(list(data.keys())[0])"
   ]
  },
  {
   "cell_type": "code",
   "execution_count": 27,
   "metadata": {},
   "outputs": [
    {
     "output_type": "stream",
     "name": "stdout",
     "text": [
      "A070000105\n"
     ]
    }
   ],
   "source": [
    "print(data['26']['시험지 id'])"
   ]
  },
  {
   "cell_type": "code",
   "execution_count": 36,
   "metadata": {},
   "outputs": [],
   "source": [
    "i = 0\n",
    "for x in df['문제키값'].unique():\n",
    "    if str(x) not in data.keys():\n",
    "        print(x)\n",
    "        i += 1"
   ]
  },
  {
   "cell_type": "code",
   "execution_count": 35,
   "metadata": {},
   "outputs": [],
   "source": [
    "df.drop(df[df['문제키값'] == 761].index, inplace=True)"
   ]
  },
  {
   "cell_type": "code",
   "execution_count": 32,
   "metadata": {},
   "outputs": [
    {
     "output_type": "execute_result",
     "data": {
      "text/plain": [
       "1"
      ]
     },
     "metadata": {},
     "execution_count": 32
    }
   ],
   "source": []
  },
  {
   "cell_type": "code",
   "execution_count": 38,
   "metadata": {},
   "outputs": [],
   "source": [
    "df['시험지 id'] = df['문제키값'].transform(lambda x: data[str(x)]['시험지 id'])"
   ]
  },
  {
   "cell_type": "code",
   "execution_count": 39,
   "metadata": {},
   "outputs": [],
   "source": [
    "df['문제 id'] = df['문제키값'].transform(lambda x: data[str(x)]['문제 id'])"
   ]
  },
  {
   "cell_type": "code",
   "execution_count": 40,
   "metadata": {},
   "outputs": [],
   "source": [
    "df['assessmentItemID'] = df['문제 id']\n",
    "df['testId'] = df['시험지 id']\n"
   ]
  },
  {
   "cell_type": "code",
   "execution_count": null,
   "metadata": {},
   "outputs": [],
   "source": [
    "df['KnowledgeTag'] = df['assessmentItemID'].transform()"
   ]
  },
  {
   "cell_type": "code",
   "execution_count": 52,
   "metadata": {},
   "outputs": [
    {
     "output_type": "error",
     "ename": "AttributeError",
     "evalue": "'DataFrameGroupBy' object has no attribute 'unique'",
     "traceback": [
      "\u001b[0;31m---------------------------------------------------------------------------\u001b[0m",
      "\u001b[0;31mAttributeError\u001b[0m                            Traceback (most recent call last)",
      "\u001b[0;32m<ipython-input-52-96e91dd9a955>\u001b[0m in \u001b[0;36m<module>\u001b[0;34m\u001b[0m\n\u001b[0;32m----> 1\u001b[0;31m \u001b[0mprob_to_kt\u001b[0m \u001b[0;34m=\u001b[0m \u001b[0mdkt_train_test_df\u001b[0m\u001b[0;34m[\u001b[0m\u001b[0;34m[\u001b[0m\u001b[0;34m'assessmentItemID'\u001b[0m\u001b[0;34m,\u001b[0m \u001b[0;34m'KnowledgeTag'\u001b[0m\u001b[0;34m]\u001b[0m\u001b[0;34m]\u001b[0m\u001b[0;34m.\u001b[0m\u001b[0mgroupby\u001b[0m\u001b[0;34m(\u001b[0m\u001b[0;34m[\u001b[0m\u001b[0;34m'assessmentItemID'\u001b[0m\u001b[0;34m,\u001b[0m \u001b[0;34m'KnowledgeTag'\u001b[0m\u001b[0;34m]\u001b[0m\u001b[0;34m)\u001b[0m\u001b[0;34m.\u001b[0m\u001b[0munique\u001b[0m\u001b[0;34m(\u001b[0m\u001b[0;34m)\u001b[0m\u001b[0;34m.\u001b[0m\u001b[0mto_dict\u001b[0m\u001b[0;34m(\u001b[0m\u001b[0;34m)\u001b[0m\u001b[0;34m\u001b[0m\u001b[0;34m\u001b[0m\u001b[0m\n\u001b[0m",
      "\u001b[0;32m/opt/conda/lib/python3.7/site-packages/pandas/core/groupby/groupby.py\u001b[0m in \u001b[0;36m__getattr__\u001b[0;34m(self, attr)\u001b[0m\n\u001b[1;32m    751\u001b[0m \u001b[0;34m\u001b[0m\u001b[0m\n\u001b[1;32m    752\u001b[0m         raise AttributeError(\n\u001b[0;32m--> 753\u001b[0;31m             \u001b[0;34mf\"'{type(self).__name__}' object has no attribute '{attr}'\"\u001b[0m\u001b[0;34m\u001b[0m\u001b[0;34m\u001b[0m\u001b[0m\n\u001b[0m\u001b[1;32m    754\u001b[0m         )\n\u001b[1;32m    755\u001b[0m \u001b[0;34m\u001b[0m\u001b[0m\n",
      "\u001b[0;31mAttributeError\u001b[0m: 'DataFrameGroupBy' object has no attribute 'unique'"
     ]
    }
   ],
   "source": [
    "prob_to_kt = dkt_train_test_df[['assessmentItemID', 'KnowledgeTag']].groupby(['assessmentItemID', 'KnowledgeTag']).to_dict()"
   ]
  },
  {
   "cell_type": "code",
   "execution_count": 56,
   "metadata": {},
   "outputs": [],
   "source": [
    "for prob in df['문제 id'].unique():\n",
    "    kts = dkt_train_test_df[dkt_train_test_df['assessmentItemID'] == prob]['KnowledgeTag'].unique()\n",
    "    prob_to_kt[prob] = kts[0]"
   ]
  },
  {
   "cell_type": "code",
   "execution_count": 58,
   "metadata": {},
   "outputs": [],
   "source": [
    "df['KnowledgeTag'] = df['문제 id'].transform(lambda x: prob_to_kt[x])"
   ]
  },
  {
   "cell_type": "code",
   "execution_count": 60,
   "metadata": {},
   "outputs": [],
   "source": [
    "df.to_csv(\"/opt/ml/web_serving/problem_dataset/processed_problems.csv\")"
   ]
  },
  {
   "cell_type": "code",
   "execution_count": null,
   "metadata": {},
   "outputs": [],
   "source": []
  }
 ]
}